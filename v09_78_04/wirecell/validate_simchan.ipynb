{
 "cells": [
  {
   "cell_type": "code",
   "execution_count": 34,
   "metadata": {},
   "outputs": [],
   "source": [
    "import uproot\n",
    "import numpy as np\n",
    "from wc_helper import *\n",
    "import fnmatch \n",
    "import matplotlib.pyplot as plt \n",
    "import mplhep as hep "
   ]
  },
  {
   "cell_type": "code",
   "execution_count": 35,
   "metadata": {},
   "outputs": [],
   "source": [
    "# comparing the sim channel **sink** from deposetsimchannelsink and depofluxwriter\n",
    "\n",
    "simch = uproot.open(\"simchannelsink/waveform.root:wvfm\")\n",
    "depof = uproot.open(\"depofluxwriter/waveform.root:wvfm\")\n",
    "\n",
    "simch_dec_names = fnmatch.filter(simch.keys(), '*run_*_sub_*_evt_*_decon*')\n",
    "simch_sim_names = fnmatch.filter(simch.keys(), '*run_*_sub_*_evt_*_sim*')\n",
    "simch_raw_names = fnmatch.filter(simch.keys(), '*run_*_sub_*_evt_*_raw*')\n",
    "\n",
    "depof_dec_names = fnmatch.filter(depof.keys(), '*run_*_sub_*_evt_*_decon*')\n",
    "depof_sim_names = fnmatch.filter(depof.keys(), '*run_*_sub_*_evt_*_sim*')\n",
    "depof_raw_names = fnmatch.filter(depof.keys(), '*run_*_sub_*_evt_*_raw*')"
   ]
  },
  {
   "cell_type": "code",
   "execution_count": 36,
   "metadata": {},
   "outputs": [],
   "source": [
    "evtnum = 0\n",
    "simch_sim = simch[simch_sim_names[evtnum]].values()\n",
    "simch_dec = simch[simch_dec_names[evtnum]].values()*50\n",
    "\n",
    "depof_sim = depof[depof_sim_names[evtnum]].values()\n",
    "depof_dec = depof[depof_dec_names[evtnum]].values()*50"
   ]
  },
  {
   "cell_type": "code",
   "execution_count": 37,
   "metadata": {},
   "outputs": [],
   "source": [
    "simch_sim_sum = np.sum(simch_sim, axis=1)\n",
    "depof_sim_sum = np.sum(depof_sim, axis=1)\n",
    "\n",
    "ch_arr = np.arange(0,len(simch_sim_sum))"
   ]
  },
  {
   "cell_type": "code",
   "execution_count": 38,
   "metadata": {},
   "outputs": [
    {
     "data": {
      "text/plain": [
       "(array([  575,   576,   577, ..., 11171, 11203, 11210]),)"
      ]
     },
     "execution_count": 38,
     "metadata": {},
     "output_type": "execute_result"
    }
   ],
   "source": [
    "np.where(np.sum(depof_dec,axis=1)>10)"
   ]
  },
  {
   "cell_type": "code",
   "execution_count": 39,
   "metadata": {},
   "outputs": [
    {
     "name": "stdout",
     "output_type": "stream",
     "text": [
      "total charge difference is:  1.9122009\n"
     ]
    }
   ],
   "source": [
    "this_simch = u0_ch(simch_sim_sum)\n",
    "this_depof = u0_ch(depof_sim_sum)\n",
    "this_ch    = u0_ch(ch_arr)\n",
    "nonzero_ch = np.where(this_simch > 0)[0]\n",
    "\n",
    "print(\"total charge difference is: \", np.sum(this_simch - this_depof))\n",
    "# plt.bar(this_ch, this_simch - this_depof)\n",
    "# plt.show()"
   ]
  },
  {
   "cell_type": "code",
   "execution_count": 40,
   "metadata": {},
   "outputs": [
    {
     "data": {
      "text/plain": [
       "32973810.0"
      ]
     },
     "execution_count": 40,
     "metadata": {},
     "output_type": "execute_result"
    }
   ],
   "source": [
    "np.sum(this_depof)"
   ]
  },
  {
   "cell_type": "code",
   "execution_count": 41,
   "metadata": {},
   "outputs": [
    {
     "data": {
      "text/plain": [
       "1.2737381576469324e-06"
      ]
     },
     "execution_count": 41,
     "metadata": {},
     "output_type": "execute_result"
    }
   ],
   "source": [
    "42/np.sum(this_simch)"
   ]
  },
  {
   "cell_type": "code",
   "execution_count": 42,
   "metadata": {},
   "outputs": [
    {
     "name": "stderr",
     "output_type": "stream",
     "text": [
      "/sbnd/app/users/lynnt/.venv/lib64/python3.6/site-packages/ipykernel_launcher.py:1: RuntimeWarning: invalid value encountered in true_divide\n",
      "  \"\"\"Entry point for launching an IPython kernel.\n"
     ]
    },
    {
     "data": {
      "image/png": "[encoded data removed]",
      "text/plain": [
       "<Figure size 432x288 with 1 Axes>"
      ]
     },
     "metadata": {
      "needs_background": "light"
     },
     "output_type": "display_data"
    }
   ],
   "source": [
    "plt.hist((simch_sim_sum - depof_sim_sum)/depof_sim_sum,np.linspace(-1e-3,1e-3,100))\n",
    "# set x tick labels to scientific notation\n",
    "plt.gca().ticklabel_format(axis='x', style='sci', scilimits=(0,0))\n",
    "plt.title(\"Percent Difference between Total Charge per Channel\")\n",
    "plt.xlabel(\"(sim_sum - depo_sum)/ (depo_sum)\")\n",
    "plt.show()"
   ]
  },
  {
   "cell_type": "code",
   "execution_count": 47,
   "metadata": {},
   "outputs": [
    {
     "data": {
      "image/png": "[encoded data removed]",
      "text/plain": [
       "<Figure size 432x288 with 1 Axes>"
      ]
     },
     "metadata": {
      "needs_background": "light"
     },
     "output_type": "display_data"
    }
   ],
   "source": [
    "ch = nonzero_ch[20]\n",
    "\n",
    "simch_sim_wvfm = simch[simch_sim_names[evtnum]].values()[ch]\n",
    "depof_sim_wvfm = depof[depof_sim_names[evtnum]].values()[ch]\n",
    "\n",
    "hep.histplot(simch_sim_wvfm, histtype='step', label='DepoSetSimChannelSink',color=\"red\")\n",
    "hep.histplot(depof_sim_wvfm, histtype='step', label='DepoFluxWriter',color=\"blue\")\n",
    "\n",
    "plt.legend()\n",
    "plt.xlabel(\"ticks\")\n",
    "plt.xlim(1060, 1100)\n",
    "plt.title(\"Comparison of Sim Channel Waveforms\")\n",
    "plt.show()"
   ]
  }
 ],
 "metadata": {
  "kernelspec": {
   "display_name": ".venv",
   "language": "python",
   "name": "python3"
  },
  "language_info": {
   "codemirror_mode": {
    "name": "ipython",
    "version": 3
   },
   "file_extension": ".py",
   "mimetype": "text/x-python",
   "name": "python",
   "nbconvert_exporter": "python",
   "pygments_lexer": "ipython3",
   "version": "3.6.8"
  },
  "orig_nbformat": 4
 },
 "nbformat": 4,
 "nbformat_minor": 2
}
