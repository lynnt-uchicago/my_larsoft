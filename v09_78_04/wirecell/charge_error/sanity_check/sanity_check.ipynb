{
 "cells": [
  {
   "cell_type": "code",
   "execution_count": 2,
   "metadata": {},
   "outputs": [],
   "source": [
    "import uproot\n",
    "import numpy as np\n",
    "import matplotlib.pyplot as plt\n",
    "import pandas as pd\n",
    "import wc_helper\n",
    "import mplhep as hep"
   ]
  },
  {
   "cell_type": "code",
   "execution_count": 3,
   "metadata": {},
   "outputs": [],
   "source": [
    "file = uproot.open(\"waveform.root\")\n",
    "dec = file[\"wvfm/decon_wvfm/run_1_sub_0_evt_1_decon\"].values()\n",
    "sim = file[\"wvfm/sim_wvfm/run_1_sub_0_evt_1_sim\"].values()"
   ]
  },
  {
   "cell_type": "code",
   "execution_count": 4,
   "metadata": {},
   "outputs": [
    {
     "data": {
      "image/png": "[encoded data removed]",
      "text/plain": [
       "<Figure size 432x288 with 1 Axes>"
      ]
     },
     "metadata": {
      "needs_background": "light"
     },
     "output_type": "display_data"
    }
   ],
   "source": [
    "u_roi_arr = np.sum((wc_helper.u_ch(dec)>1),axis=1)\n",
    "v_roi_arr = np.sum((wc_helper.v_ch(dec)>1),axis=1)\n",
    "w_roi_arr = np.sum((wc_helper.w_ch(dec)>1),axis=1)\n",
    "\n",
    "plt.hist(u_roi_arr[u_roi_arr>0],bins=np.arange(0,50),histtype=\"step\")\n",
    "plt.hist(v_roi_arr[v_roi_arr>0],bins=np.arange(0,50),histtype=\"step\")\n",
    "plt.hist(w_roi_arr[w_roi_arr>0],bins=np.arange(0,50),histtype=\"step\")\n",
    "plt.show()"
   ]
  },
  {
   "cell_type": "code",
   "execution_count": 125,
   "metadata": {},
   "outputs": [
    {
     "name": "stdout",
     "output_type": "stream",
     "text": [
      "charge resolution (u) 9403.826\n",
      "charge resolution (v) 8529.872\n",
      "charge resolution (w) 546.947\n"
     ]
    },
    {
     "data": {
      "image/png": "[encoded data removed]",
      "text/plain": [
       "<Figure size 432x288 with 1 Axes>"
      ]
     },
     "metadata": {
      "needs_background": "light"
     },
     "output_type": "display_data"
    }
   ],
   "source": [
    "sim_sum = np.sum(sim,axis=1)\n",
    "dec_sum = np.sum(dec,axis=1)\n",
    "ch_mask = np.where(sim_sum>2500,True,False)\n",
    "u_mask = wc_helper.u_ch(ch_mask); v_mask = wc_helper.v_ch(ch_mask); w_mask = wc_helper.w_ch(ch_mask)\n",
    "\n",
    "u_diff = (wc_helper.u_ch(dec_sum)[u_mask]*50 - wc_helper.u_ch(sim_sum)[u_mask])\n",
    "v_diff = (wc_helper.v_ch(dec_sum)[v_mask]*50 - wc_helper.v_ch(sim_sum)[v_mask])\n",
    "w_diff = (wc_helper.w_ch(dec_sum)[w_mask]*50 - wc_helper.w_ch(sim_sum)[w_mask])\n",
    "\n",
    "print(\"charge resolution (u)\", np.std(u_diff))\n",
    "print(\"charge resolution (v)\", np.std(v_diff))\n",
    "print(\"charge resolution (w)\", np.std(w_diff))\n",
    "\n",
    "plt.hist(u_diff,histtype=\"step\",bins=np.linspace(-2e4,2e4,50))\n",
    "plt.hist(v_diff,histtype=\"step\",bins=np.linspace(-2e4,2e4,50))\n",
    "plt.hist(w_diff,histtype=\"step\",bins=np.linspace(-2e4,2e4,50))\n",
    "plt.show()"
   ]
  },
  {
   "cell_type": "code",
   "execution_count": 130,
   "metadata": {},
   "outputs": [
    {
     "name": "stdout",
     "output_type": "stream",
     "text": [
      "average ROI window (u):  22.0\n",
      "average ROI window (v):  22.5\n",
      "average ROI window (w):  17.0\n"
     ]
    },
    {
     "data": {
      "image/png": "[encoded data removed]",
      "text/plain": [
       "<Figure size 432x288 with 1 Axes>"
      ]
     },
     "metadata": {
      "needs_background": "light"
     },
     "output_type": "display_data"
    }
   ],
   "source": [
    "u_roi_arr = np.sum((wc_helper.u_ch(dec)[u_mask]>1),axis=1)\n",
    "v_roi_arr = np.sum((wc_helper.v_ch(dec)[v_mask]>1),axis=1)\n",
    "w_roi_arr = np.sum((wc_helper.w_ch(dec)[w_mask]>1),axis=1)\n",
    "print(\"average ROI window (u): \", np.median(u_roi_arr[u_roi_arr>0]))\n",
    "print(\"average ROI window (v): \", np.median(v_roi_arr[v_roi_arr>0]))\n",
    "print(\"average ROI window (w): \", np.median(w_roi_arr[w_roi_arr>0]))\n",
    "plt.hist(u_roi_arr[u_roi_arr>0],bins=np.arange(0,50),histtype=\"step\")\n",
    "plt.hist(v_roi_arr[v_roi_arr>0],bins=np.arange(0,50),histtype=\"step\")\n",
    "plt.hist(w_roi_arr[w_roi_arr>0],bins=np.arange(0,50),histtype=\"step\")\n",
    "plt.show()"
   ]
  }
 ],
 "metadata": {
  "kernelspec": {
   "display_name": ".venv",
   "language": "python",
   "name": "python3"
  },
  "language_info": {
   "codemirror_mode": {
    "name": "ipython",
    "version": 3
   },
   "file_extension": ".py",
   "mimetype": "text/x-python",
   "name": "python",
   "nbconvert_exporter": "python",
   "pygments_lexer": "ipython3",
   "version": "3.6.8"
  }
 },
 "nbformat": 4,
 "nbformat_minor": 2
}
