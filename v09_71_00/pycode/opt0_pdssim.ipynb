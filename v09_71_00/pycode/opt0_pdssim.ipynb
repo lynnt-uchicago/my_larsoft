{
 "cells": [
  {
   "cell_type": "code",
   "execution_count": 3,
   "metadata": {},
   "outputs": [],
   "source": [
    "import uproot\n",
    "\n",
    "def create_df(tree_path, branches = None):\n",
    "    # tree_path: string, path to file that should include the TDirectories/TTree names: \n",
    "    # branches: array of strings, such as [\"run\",\"subrun\",\"event\"]\n",
    "    \n",
    "    # example: tree.root:TDirectory/TTree\n",
    "    tree = uproot.open(tree_path)\n",
    "    if branches == None:\n",
    "        df = tree.arrays(library=\"pd\")\n",
    "    else:\n",
    "        df = tree.arrays(branches, library=\"pd\")\n",
    "    return df\n",
    "\n",
    "def create_truth_df(tree_path):\n",
    "    # input should be the path to a **flat.caf.root:recTree** \n",
    "    branches = ['rec.hdr.run','rec.hdr.subrun','rec.hdr.evt',\n",
    "                'rec.mc.nnu','rec.mc.nu.pdg','rec.mc.nu.iscc','rec.mc.nu.isnc',\n",
    "                'rec.mc.nu.time','rec.mc.nu.E','rec.mc.nu.index',\n",
    "                'rec.mc.nu.position.x','rec.mc.nu.position.y','rec.mc.nu.position.z']\n",
    "    df = create_df(tree_path, branches)\n",
    "    df.columns = ['run','subrun','event',\"nnu\",\"pdg\",'iscc','isnc','time','truE','nu_index','vtx_x','vtx_y','vtx_z']\n",
    "    return df\n",
    "\n",
    "def create_slice_df(tree_path):\n",
    "    # input should be the path to a **flat.caf.root:recTree** \n",
    "    branches  = ['rec.hdr.run','rec.hdr.subrun','rec.hdr.evt',\n",
    "                 'rec.slc.self',\"rec.slc.nu_score\",\"rec.slc.fmatch.score\",\"rec.slc.crumbs_result.score\",\n",
    "                 'rec.slc.truth.index','rec.slc.tmatch.eff','rec.slc.tmatch.pur', \n",
    "                 'rec.slc.vertex.x','rec.slc.vertex.y','rec.slc.vertex.z',\n",
    "                 'rec.slc.charge',\n",
    "                 ]\n",
    "    df = create_df(tree_path, branches)\n",
    "    df.columns = ['run','subrun','event','pfpid','nscore',\"fscore\",\"crumbs_score\",'nu_index','eff','pur',\"rec_vtx_x\",\"rec_vtx_y\",\"rec_vtx_z\",\"rec_charge\"]\n",
    "    return df"
   ]
  },
  {
   "cell_type": "code",
   "execution_count": 4,
   "metadata": {},
   "outputs": [],
   "source": [
    "import matplotlib.pyplot as plt \n",
    "import matplotlib as mpl\n",
    "import numpy as np\n",
    "import pandas as pd"
   ]
  },
  {
   "cell_type": "code",
   "execution_count": 5,
   "metadata": {},
   "outputs": [],
   "source": [
    "def create_match_df(opt0_path,stop=None):\n",
    "    # opt0_path: should be a string, path to opt0 file \n",
    "    # stop (int): how many entries to stop when also obtaining the flash/hypo spectrum \n",
    "    match_tree = uproot.open(opt0_path+\":fixopt0finder/flash_match_tree\")\n",
    "    if stop==None: \n",
    "        match_df = match_tree.arrays(['run','subrun','event','tpc','pfpid','matchid','score','t0','hypo_pe','flash_pe'],library='pd') \n",
    "    else:\n",
    "        match_df = match_tree.arrays(library='pd',entry_stop=stop)\n",
    "        match_df.rename(columns={\"subentry\" : \"pdch\"},inplace=True)\n",
    "        # match_df = match_df[((match_df.hypo_spec==0) & (match_df.flash_spec==0))==False]\n",
    "    match_df[\"hypo_frac_diff\"] = (match_df[\"hypo_pe\"]-match_df[\"flash_pe\"])/(match_df[\"hypo_pe\"])\n",
    "    match_df[\"flash_frac_diff\"] = (match_df[\"flash_pe\"]-match_df[\"hypo_pe\"])/(match_df[\"flash_pe\"])\n",
    "    return match_df\n",
    "\n",
    "def perform_truth_cuts(truth_df):\n",
    "    # keep events inside FV\n",
    "    # truth_df = truth_df[(truth_df.vtx_x>-190)&(truth_df.vtx_x<190)&(truth_df.vtx_y>-190)&(truth_df.vtx_y<190)&(truth_df.vtx_z>10)&(truth_df.vtx_z<450)]\n",
    "    # keep events that have only one neutrino interaction \n",
    "    # truth_df = truth_df.drop_duplicates(subset=[\"run\",\"subrun\",\"event\"],keep=False)\n",
    "    # truth_df = truth_df.drop(columns=[\"nnu\"])\n",
    "    return truth_df \n",
    "    \n",
    "def perform_slice_cuts(slice_df):\n",
    "    # keep slices that are not unambiguous cosmics \n",
    "    slice_df = slice_df[slice_df.nscore>0]\n",
    "    return slice_df\n",
    "\n",
    "def merge_caf_opt0(caf_path,opt0_path,stop=None):\n",
    "    # caf_path: should be a string, path to the caf file\n",
    "    # opt0_path: should be a string, path to opt0 file \n",
    "    # assuming we want the opt0 flash_match_tree, not the slice_deposition_tree\n",
    "    truth_df = create_truth_df(caf_path + \":recTree\")\n",
    "    slice_df = create_slice_df(caf_path + \":recTree\")\n",
    "    match_df  = create_match_df(opt0_path,stop)\n",
    "    \n",
    "    truth_df = perform_truth_cuts(truth_df)\n",
    "    slice_df = perform_slice_cuts(slice_df)\n",
    "    \n",
    "    match_slice_df = slice_df.merge(match_df,how=\"left\",on=[\"run\",\"subrun\",\"event\",\"pfpid\"])\n",
    "    df = match_slice_df.merge(truth_df,how=\"left\",on=[\"run\",\"subrun\",\"event\",\"nu_index\"])\n",
    "    return df\n",
    "\n",
    "def merge_caf(caf_path):\n",
    "    truth_df = create_truth_df(caf_path + \":recTree\")\n",
    "    slice_df = create_slice_df(caf_path + \":recTree\")\n",
    "    \n",
    "    truth_df = perform_truth_cuts(truth_df)\n",
    "    slice_df = perform_slice_cuts(slice_df)\n",
    "    \n",
    "    match_slice_df = slice_df.merge(truth_df,how=\"left\",on=[\"run\",\"subrun\",\"event\",\"nu_index\"])\n",
    "    return match_slice_df"
   ]
  },
  {
   "cell_type": "code",
   "execution_count": 6,
   "metadata": {},
   "outputs": [],
   "source": [
    "caf_path = \"/sbnd/data/users/lynnt/v09_71_00/opt0_pdssim/ana_caf.root\"\n",
    "# opt_path = \"/sbnd/data/users/lynnt/v09_71_00/opt0_pdssim/ana_opt0.root\"\n",
    "opt_path = \"/pnfs/sbnd/scratch/users/lynnt/v09_71_00/updated_opt0/opt0/ana_opt0.root\"\n",
    "\n",
    "truth_df = create_truth_df(caf_path + \":recTree\")\n",
    "\n",
    "truth_match_df = truth_df.merge(create_match_df(opt_path),on=[\"run\",\"subrun\",\"event\"],how=\"left\")\n",
    "failed_subrun = truth_match_df[truth_match_df.matchid.isna()==True].drop_duplicates(subset=[\"run\",\"subrun\"])[[\"run\",\"subrun\"]]\n",
    "\n",
    "match_df = create_match_df(opt_path)"
   ]
  },
  {
   "cell_type": "code",
   "execution_count": 112,
   "metadata": {},
   "outputs": [],
   "source": [
    "test_df = create_match_df(opt_path,5e4)"
   ]
  },
  {
   "cell_type": "code",
   "execution_count": 119,
   "metadata": {},
   "outputs": [
    {
     "data": {
      "image/png": "[encoded data removed]",
      "text/plain": [
       "<Figure size 432x288 with 1 Axes>"
      ]
     },
     "metadata": {
      "needs_background": "light"
     },
     "output_type": "display_data"
    }
   ],
   "source": [
    "merge_df = test_df.merge(missing_df,on=[\"subrun\",\"event\",\"pfpid\"],how=\"inner\")\n",
    "plt.hist(merge_df[(merge_df.hypo_spec>0) & (merge_df.flash_spec==0)].hypo_spec,bins=np.linspace(0,3e4,50))\n",
    "ymin, ymax = plt.ylim()\n",
    "plt.vlines(2.5e3,ymin=ymin,ymax=ymax)\n",
    "plt.ylim(ymin,ymax)\n",
    "plt.show()"
   ]
  },
  {
   "cell_type": "code",
   "execution_count": 95,
   "metadata": {},
   "outputs": [
    {
     "data": {
      "text/html": [
       "<div>\n",
       "<style scoped>\n",
       "    .dataframe tbody tr th:only-of-type {\n",
       "        vertical-align: middle;\n",
       "    }\n",
       "\n",
       "    .dataframe tbody tr th {\n",
       "        vertical-align: top;\n",
       "    }\n",
       "\n",
       "    .dataframe thead th {\n",
       "        text-align: right;\n",
       "    }\n",
       "</style>\n",
       "<table border=\"1\" class=\"dataframe\">\n",
       "  <thead>\n",
       "    <tr style=\"text-align: right;\">\n",
       "      <th></th>\n",
       "      <th>entry</th>\n",
       "      <th>subentry</th>\n",
       "      <th>run</th>\n",
       "      <th>subrun</th>\n",
       "      <th>event</th>\n",
       "      <th>tpc</th>\n",
       "      <th>matchid</th>\n",
       "      <th>tpcid</th>\n",
       "      <th>sliceid</th>\n",
       "      <th>pfpid</th>\n",
       "      <th>flashid</th>\n",
       "      <th>t0</th>\n",
       "      <th>score</th>\n",
       "      <th>hypo_pe</th>\n",
       "      <th>flash_pe</th>\n",
       "      <th>hypo_spec</th>\n",
       "      <th>flash_spec</th>\n",
       "      <th>nopdets_masked</th>\n",
       "      <th>hypo_frac_diff</th>\n",
       "      <th>flash_frac_diff</th>\n",
       "    </tr>\n",
       "  </thead>\n",
       "  <tbody>\n",
       "    <tr>\n",
       "      <th>222</th>\n",
       "      <td>18</td>\n",
       "      <td>222</td>\n",
       "      <td>1</td>\n",
       "      <td>2</td>\n",
       "      <td>6</td>\n",
       "      <td>0</td>\n",
       "      <td>0</td>\n",
       "      <td>1</td>\n",
       "      <td>1</td>\n",
       "      <td>69</td>\n",
       "      <td>0</td>\n",
       "      <td>1.128786</td>\n",
       "      <td>194.006076</td>\n",
       "      <td>84377.094166</td>\n",
       "      <td>93225.610725</td>\n",
       "      <td>5124.439277</td>\n",
       "      <td>0.0</td>\n",
       "      <td>16</td>\n",
       "      <td>-0.104869</td>\n",
       "      <td>0.094915</td>\n",
       "    </tr>\n",
       "    <tr>\n",
       "      <th>244</th>\n",
       "      <td>18</td>\n",
       "      <td>244</td>\n",
       "      <td>1</td>\n",
       "      <td>2</td>\n",
       "      <td>6</td>\n",
       "      <td>0</td>\n",
       "      <td>0</td>\n",
       "      <td>1</td>\n",
       "      <td>1</td>\n",
       "      <td>69</td>\n",
       "      <td>0</td>\n",
       "      <td>1.128786</td>\n",
       "      <td>194.006076</td>\n",
       "      <td>84377.094166</td>\n",
       "      <td>93225.610725</td>\n",
       "      <td>7112.683637</td>\n",
       "      <td>0.0</td>\n",
       "      <td>16</td>\n",
       "      <td>-0.104869</td>\n",
       "      <td>0.094915</td>\n",
       "    </tr>\n",
       "    <tr>\n",
       "      <th>246</th>\n",
       "      <td>18</td>\n",
       "      <td>246</td>\n",
       "      <td>1</td>\n",
       "      <td>2</td>\n",
       "      <td>6</td>\n",
       "      <td>0</td>\n",
       "      <td>0</td>\n",
       "      <td>1</td>\n",
       "      <td>1</td>\n",
       "      <td>69</td>\n",
       "      <td>0</td>\n",
       "      <td>1.128786</td>\n",
       "      <td>194.006076</td>\n",
       "      <td>84377.094166</td>\n",
       "      <td>93225.610725</td>\n",
       "      <td>7236.515098</td>\n",
       "      <td>0.0</td>\n",
       "      <td>16</td>\n",
       "      <td>-0.104869</td>\n",
       "      <td>0.094915</td>\n",
       "    </tr>\n",
       "  </tbody>\n",
       "</table>\n",
       "</div>"
      ],
      "text/plain": [
       "     entry  subentry  run  subrun  event  tpc  matchid  tpcid  sliceid  pfpid  \\\n",
       "222     18       222    1       2      6    0        0      1        1     69   \n",
       "244     18       244    1       2      6    0        0      1        1     69   \n",
       "246     18       246    1       2      6    0        0      1        1     69   \n",
       "\n",
       "     flashid        t0       score       hypo_pe      flash_pe    hypo_spec  \\\n",
       "222        0  1.128786  194.006076  84377.094166  93225.610725  5124.439277   \n",
       "244        0  1.128786  194.006076  84377.094166  93225.610725  7112.683637   \n",
       "246        0  1.128786  194.006076  84377.094166  93225.610725  7236.515098   \n",
       "\n",
       "     flash_spec  nopdets_masked  hypo_frac_diff  flash_frac_diff  \n",
       "222         0.0              16       -0.104869         0.094915  \n",
       "244         0.0              16       -0.104869         0.094915  \n",
       "246         0.0              16       -0.104869         0.094915  "
      ]
     },
     "execution_count": 95,
     "metadata": {},
     "output_type": "execute_result"
    }
   ],
   "source": [
    "subrun = 2\n",
    "event = 6\n",
    "pfpid = 69\n",
    "evt_df = test_df[(test_df.subrun==subrun) & (test_df.event == event)&(test_df.pfpid==pfpid)].reset_index()\n",
    "# evt_df= evt_df[(evt_df.flash_spec!=0)]\n",
    "evt_df['flash_spec'] = np.round(evt_df['flash_spec'],3)\n",
    "evt_df[(evt_df.hypo_spec>0) & (evt_df.flash_spec==0)]\n"
   ]
  },
  {
   "cell_type": "code",
   "execution_count": 9,
   "metadata": {},
   "outputs": [],
   "source": [
    "evt_cc_df = truth_df[(truth_df.iscc==1) & (truth_df.nnu==1)][[\"run\",\"subrun\",\"event\"]].drop_duplicates().merge(failed_subrun,on=['run','subrun'], how='left', indicator=True).query('_merge == \"left_only\"').drop('_merge', 1)\n",
    "evt_nc_df = truth_df[(truth_df.isnc==1) & (truth_df.nnu==1)][[\"run\",\"subrun\",\"event\"]].drop_duplicates().merge(failed_subrun,on=['run','subrun'], how='left', indicator=True).query('_merge == \"left_only\"').drop('_merge', 1)"
   ]
  },
  {
   "cell_type": "code",
   "execution_count": 10,
   "metadata": {},
   "outputs": [],
   "source": [
    "opt_df   = merge_caf_opt0(caf_path,opt_path)\n",
    "# don't include failed events\n",
    "opt_df   = opt_df.merge(failed_subrun,on=['run','subrun'], how='left', indicator=True).query('_merge == \"left_only\"').drop('_merge', 1)\n",
    "\n",
    "# signal mapping \n",
    "## 0: not a cosmic, inside FV, the flash-matched time is within 100 ns\n",
    "## 1: not a cosmic, inside FV, the flash-matched time is greater than 100 ns\n",
    "## 2: not a cosmic, matched interaction is outside the FV \n",
    "## 3: cosmic\n",
    "# only consider slices with reco vertex in the FV (as 100% efficiency )\n",
    "whererecoFV =((opt_df.rec_vtx_x>-190)&(opt_df.rec_vtx_x<190)&(opt_df.rec_vtx_y>-190)&(opt_df.rec_vtx_y<190)&(opt_df.rec_vtx_z>10)&(opt_df.rec_vtx_z<450))\n",
    "opt_df = opt_df[whererecoFV]\n",
    "whereFV = ((opt_df.vtx_x>-190)&(opt_df.vtx_x<190)&(opt_df.vtx_y>-190)&(opt_df.vtx_y<190)&(opt_df.vtx_z>10)&(opt_df.vtx_z<450))\n",
    "\n",
    "opt_df[\"score\"] = np.where(opt_df.score.isna(),0.1,opt_df.score)\n",
    "opt_df[\"signal\"] = -1 \n",
    "opt_df[\"signal\"] = np.where(whereFV &          (opt_df.nu_index>=0), 0, opt_df[\"signal\"]) # slice has a neutrino interaction that happened inside the FV (truth)\n",
    "opt_df[\"signal\"] = np.where(whereFV == False & (opt_df.nu_index>=0), 1, opt_df[\"signal\"]) # dirt neutrino interaction \n",
    "opt_df[\"signal\"] = np.where(                   (opt_df.nu_index<0),  2, opt_df[\"signal\"])  # cosmic\n",
    "\n",
    "opt_df[\"match\"] = 3\n",
    "opt_df[\"match\"] = np.where((opt_df.signal==0) & (opt_df.t0 - opt_df.time < 0.1),0,opt_df.match) # flash matched properly \n",
    "opt_df[\"match\"] = np.where((opt_df.signal==0) & ((opt_df.t0 - opt_df.time < 0.1) == False) & (opt_df.t0.isna()==False),1,opt_df.match) # reco time is incorrect \n",
    "opt_df[\"match\"] = np.where((opt_df.signal==0) & (opt_df.t0.isna()==True),2,opt_df.match) # failed to reco at all\n",
    "\n",
    "# remove duplicates, choose slice with the best opt0 score \n",
    "opt_df = opt_df[ opt_df.score == opt_df.groupby([\"run\",\"subrun\",\"event\",\"pfpid\"])[\"score\"].transform(max)]\n",
    "# opt_df[\"signal\"] = -1 \n",
    "# opt_df[\"signal\"] = np.where((whereFV & (opt_df.nu_index>=0) & (opt_df.t0- opt_df.time < 0.1)), 0, opt_df.signal)\n",
    "# opt_df[\"signal\"] = np.where((whereFV & (opt_df.nu_index>=0) & ((opt_df.t0- opt_df.time > 0.1) | (opt_df.t0 < opt_df.time))), 1, opt_df.signal)\n",
    "# opt_df[\"signal\"] = np.where(whereFV==False & (opt_df.nu_index >= 0), 2, opt_df.signal)\n",
    "# opt_df[\"signal\"] = np.where((opt_df.nu_index < 0), 3, opt_df.signal)"
   ]
  },
  {
   "cell_type": "code",
   "execution_count": 12,
   "metadata": {},
   "outputs": [
    {
     "data": {
      "text/html": [
       "<div>\n",
       "<style scoped>\n",
       "    .dataframe tbody tr th:only-of-type {\n",
       "        vertical-align: middle;\n",
       "    }\n",
       "\n",
       "    .dataframe tbody tr th {\n",
       "        vertical-align: top;\n",
       "    }\n",
       "\n",
       "    .dataframe thead th {\n",
       "        text-align: right;\n",
       "    }\n",
       "</style>\n",
       "<table border=\"1\" class=\"dataframe\">\n",
       "  <thead>\n",
       "    <tr style=\"text-align: right;\">\n",
       "      <th></th>\n",
       "      <th>run</th>\n",
       "      <th>subrun</th>\n",
       "      <th>event</th>\n",
       "      <th>pfpid</th>\n",
       "      <th>nscore</th>\n",
       "      <th>fscore</th>\n",
       "      <th>crumbs_score</th>\n",
       "      <th>nu_index</th>\n",
       "      <th>eff</th>\n",
       "      <th>pur</th>\n",
       "      <th>...</th>\n",
       "      <th>pdg</th>\n",
       "      <th>iscc</th>\n",
       "      <th>isnc</th>\n",
       "      <th>time</th>\n",
       "      <th>truE</th>\n",
       "      <th>vtx_x</th>\n",
       "      <th>vtx_y</th>\n",
       "      <th>vtx_z</th>\n",
       "      <th>signal</th>\n",
       "      <th>match</th>\n",
       "    </tr>\n",
       "  </thead>\n",
       "  <tbody>\n",
       "    <tr>\n",
       "      <th>1</th>\n",
       "      <td>1</td>\n",
       "      <td>125</td>\n",
       "      <td>1</td>\n",
       "      <td>101</td>\n",
       "      <td>0.363052</td>\n",
       "      <td>15.554167</td>\n",
       "      <td>NaN</td>\n",
       "      <td>-1</td>\n",
       "      <td>NaN</td>\n",
       "      <td>NaN</td>\n",
       "      <td>...</td>\n",
       "      <td>NaN</td>\n",
       "      <td>NaN</td>\n",
       "      <td>NaN</td>\n",
       "      <td>NaN</td>\n",
       "      <td>NaN</td>\n",
       "      <td>NaN</td>\n",
       "      <td>NaN</td>\n",
       "      <td>NaN</td>\n",
       "      <td>2</td>\n",
       "      <td>3</td>\n",
       "    </tr>\n",
       "    <tr>\n",
       "      <th>3</th>\n",
       "      <td>1</td>\n",
       "      <td>125</td>\n",
       "      <td>1</td>\n",
       "      <td>103</td>\n",
       "      <td>0.475204</td>\n",
       "      <td>8.794468</td>\n",
       "      <td>NaN</td>\n",
       "      <td>0</td>\n",
       "      <td>0.959714</td>\n",
       "      <td>0.966985</td>\n",
       "      <td>...</td>\n",
       "      <td>14.0</td>\n",
       "      <td>1.0</td>\n",
       "      <td>0.0</td>\n",
       "      <td>0.492359</td>\n",
       "      <td>0.787070</td>\n",
       "      <td>146.134125</td>\n",
       "      <td>167.103973</td>\n",
       "      <td>63.172684</td>\n",
       "      <td>0</td>\n",
       "      <td>0</td>\n",
       "    </tr>\n",
       "    <tr>\n",
       "      <th>4</th>\n",
       "      <td>1</td>\n",
       "      <td>125</td>\n",
       "      <td>2</td>\n",
       "      <td>74</td>\n",
       "      <td>0.336331</td>\n",
       "      <td>16.425194</td>\n",
       "      <td>NaN</td>\n",
       "      <td>-1</td>\n",
       "      <td>NaN</td>\n",
       "      <td>NaN</td>\n",
       "      <td>...</td>\n",
       "      <td>NaN</td>\n",
       "      <td>NaN</td>\n",
       "      <td>NaN</td>\n",
       "      <td>NaN</td>\n",
       "      <td>NaN</td>\n",
       "      <td>NaN</td>\n",
       "      <td>NaN</td>\n",
       "      <td>NaN</td>\n",
       "      <td>2</td>\n",
       "      <td>3</td>\n",
       "    </tr>\n",
       "    <tr>\n",
       "      <th>6</th>\n",
       "      <td>1</td>\n",
       "      <td>125</td>\n",
       "      <td>2</td>\n",
       "      <td>72</td>\n",
       "      <td>0.433847</td>\n",
       "      <td>5.508766</td>\n",
       "      <td>NaN</td>\n",
       "      <td>0</td>\n",
       "      <td>0.960799</td>\n",
       "      <td>0.982659</td>\n",
       "      <td>...</td>\n",
       "      <td>14.0</td>\n",
       "      <td>1.0</td>\n",
       "      <td>0.0</td>\n",
       "      <td>0.139207</td>\n",
       "      <td>0.539590</td>\n",
       "      <td>163.483765</td>\n",
       "      <td>93.630974</td>\n",
       "      <td>301.022064</td>\n",
       "      <td>0</td>\n",
       "      <td>0</td>\n",
       "    </tr>\n",
       "    <tr>\n",
       "      <th>14</th>\n",
       "      <td>1</td>\n",
       "      <td>125</td>\n",
       "      <td>4</td>\n",
       "      <td>70</td>\n",
       "      <td>0.657861</td>\n",
       "      <td>7.862222</td>\n",
       "      <td>NaN</td>\n",
       "      <td>0</td>\n",
       "      <td>0.552239</td>\n",
       "      <td>0.973645</td>\n",
       "      <td>...</td>\n",
       "      <td>14.0</td>\n",
       "      <td>1.0</td>\n",
       "      <td>0.0</td>\n",
       "      <td>1.364529</td>\n",
       "      <td>0.810299</td>\n",
       "      <td>27.809269</td>\n",
       "      <td>0.658653</td>\n",
       "      <td>86.899841</td>\n",
       "      <td>0</td>\n",
       "      <td>0</td>\n",
       "    </tr>\n",
       "    <tr>\n",
       "      <th>...</th>\n",
       "      <td>...</td>\n",
       "      <td>...</td>\n",
       "      <td>...</td>\n",
       "      <td>...</td>\n",
       "      <td>...</td>\n",
       "      <td>...</td>\n",
       "      <td>...</td>\n",
       "      <td>...</td>\n",
       "      <td>...</td>\n",
       "      <td>...</td>\n",
       "      <td>...</td>\n",
       "      <td>...</td>\n",
       "      <td>...</td>\n",
       "      <td>...</td>\n",
       "      <td>...</td>\n",
       "      <td>...</td>\n",
       "      <td>...</td>\n",
       "      <td>...</td>\n",
       "      <td>...</td>\n",
       "      <td>...</td>\n",
       "      <td>...</td>\n",
       "    </tr>\n",
       "    <tr>\n",
       "      <th>47206</th>\n",
       "      <td>1</td>\n",
       "      <td>391</td>\n",
       "      <td>22</td>\n",
       "      <td>59</td>\n",
       "      <td>0.559404</td>\n",
       "      <td>9.884345</td>\n",
       "      <td>NaN</td>\n",
       "      <td>-1</td>\n",
       "      <td>NaN</td>\n",
       "      <td>NaN</td>\n",
       "      <td>...</td>\n",
       "      <td>NaN</td>\n",
       "      <td>NaN</td>\n",
       "      <td>NaN</td>\n",
       "      <td>NaN</td>\n",
       "      <td>NaN</td>\n",
       "      <td>NaN</td>\n",
       "      <td>NaN</td>\n",
       "      <td>NaN</td>\n",
       "      <td>2</td>\n",
       "      <td>3</td>\n",
       "    </tr>\n",
       "    <tr>\n",
       "      <th>47207</th>\n",
       "      <td>1</td>\n",
       "      <td>391</td>\n",
       "      <td>22</td>\n",
       "      <td>61</td>\n",
       "      <td>0.428894</td>\n",
       "      <td>8.747513</td>\n",
       "      <td>NaN</td>\n",
       "      <td>0</td>\n",
       "      <td>0.799044</td>\n",
       "      <td>0.746759</td>\n",
       "      <td>...</td>\n",
       "      <td>14.0</td>\n",
       "      <td>1.0</td>\n",
       "      <td>0.0</td>\n",
       "      <td>0.922456</td>\n",
       "      <td>0.677799</td>\n",
       "      <td>22.588705</td>\n",
       "      <td>177.425583</td>\n",
       "      <td>429.390198</td>\n",
       "      <td>0</td>\n",
       "      <td>0</td>\n",
       "    </tr>\n",
       "    <tr>\n",
       "      <th>47209</th>\n",
       "      <td>1</td>\n",
       "      <td>391</td>\n",
       "      <td>23</td>\n",
       "      <td>46</td>\n",
       "      <td>0.452137</td>\n",
       "      <td>15.864047</td>\n",
       "      <td>NaN</td>\n",
       "      <td>-1</td>\n",
       "      <td>NaN</td>\n",
       "      <td>NaN</td>\n",
       "      <td>...</td>\n",
       "      <td>NaN</td>\n",
       "      <td>NaN</td>\n",
       "      <td>NaN</td>\n",
       "      <td>NaN</td>\n",
       "      <td>NaN</td>\n",
       "      <td>NaN</td>\n",
       "      <td>NaN</td>\n",
       "      <td>NaN</td>\n",
       "      <td>2</td>\n",
       "      <td>3</td>\n",
       "    </tr>\n",
       "    <tr>\n",
       "      <th>47214</th>\n",
       "      <td>1</td>\n",
       "      <td>391</td>\n",
       "      <td>25</td>\n",
       "      <td>68</td>\n",
       "      <td>0.626537</td>\n",
       "      <td>9.485947</td>\n",
       "      <td>NaN</td>\n",
       "      <td>0</td>\n",
       "      <td>0.837745</td>\n",
       "      <td>0.931605</td>\n",
       "      <td>...</td>\n",
       "      <td>14.0</td>\n",
       "      <td>1.0</td>\n",
       "      <td>0.0</td>\n",
       "      <td>1.511013</td>\n",
       "      <td>1.202145</td>\n",
       "      <td>-94.663971</td>\n",
       "      <td>33.232391</td>\n",
       "      <td>405.152161</td>\n",
       "      <td>0</td>\n",
       "      <td>0</td>\n",
       "    </tr>\n",
       "    <tr>\n",
       "      <th>47215</th>\n",
       "      <td>1</td>\n",
       "      <td>391</td>\n",
       "      <td>25</td>\n",
       "      <td>69</td>\n",
       "      <td>0.477485</td>\n",
       "      <td>22.694899</td>\n",
       "      <td>NaN</td>\n",
       "      <td>-1</td>\n",
       "      <td>NaN</td>\n",
       "      <td>NaN</td>\n",
       "      <td>...</td>\n",
       "      <td>NaN</td>\n",
       "      <td>NaN</td>\n",
       "      <td>NaN</td>\n",
       "      <td>NaN</td>\n",
       "      <td>NaN</td>\n",
       "      <td>NaN</td>\n",
       "      <td>NaN</td>\n",
       "      <td>NaN</td>\n",
       "      <td>2</td>\n",
       "      <td>3</td>\n",
       "    </tr>\n",
       "  </tbody>\n",
       "</table>\n",
       "<p>22254 rows × 33 columns</p>\n",
       "</div>"
      ],
      "text/plain": [
       "       run  subrun  event  pfpid    nscore     fscore  crumbs_score  nu_index  \\\n",
       "1        1     125      1    101  0.363052  15.554167           NaN        -1   \n",
       "3        1     125      1    103  0.475204   8.794468           NaN         0   \n",
       "4        1     125      2     74  0.336331  16.425194           NaN        -1   \n",
       "6        1     125      2     72  0.433847   5.508766           NaN         0   \n",
       "14       1     125      4     70  0.657861   7.862222           NaN         0   \n",
       "...    ...     ...    ...    ...       ...        ...           ...       ...   \n",
       "47206    1     391     22     59  0.559404   9.884345           NaN        -1   \n",
       "47207    1     391     22     61  0.428894   8.747513           NaN         0   \n",
       "47209    1     391     23     46  0.452137  15.864047           NaN        -1   \n",
       "47214    1     391     25     68  0.626537   9.485947           NaN         0   \n",
       "47215    1     391     25     69  0.477485  22.694899           NaN        -1   \n",
       "\n",
       "            eff       pur  ...   pdg  iscc  isnc      time      truE  \\\n",
       "1           NaN       NaN  ...   NaN   NaN   NaN       NaN       NaN   \n",
       "3      0.959714  0.966985  ...  14.0   1.0   0.0  0.492359  0.787070   \n",
       "4           NaN       NaN  ...   NaN   NaN   NaN       NaN       NaN   \n",
       "6      0.960799  0.982659  ...  14.0   1.0   0.0  0.139207  0.539590   \n",
       "14     0.552239  0.973645  ...  14.0   1.0   0.0  1.364529  0.810299   \n",
       "...         ...       ...  ...   ...   ...   ...       ...       ...   \n",
       "47206       NaN       NaN  ...   NaN   NaN   NaN       NaN       NaN   \n",
       "47207  0.799044  0.746759  ...  14.0   1.0   0.0  0.922456  0.677799   \n",
       "47209       NaN       NaN  ...   NaN   NaN   NaN       NaN       NaN   \n",
       "47214  0.837745  0.931605  ...  14.0   1.0   0.0  1.511013  1.202145   \n",
       "47215       NaN       NaN  ...   NaN   NaN   NaN       NaN       NaN   \n",
       "\n",
       "            vtx_x       vtx_y       vtx_z  signal  match  \n",
       "1             NaN         NaN         NaN       2      3  \n",
       "3      146.134125  167.103973   63.172684       0      0  \n",
       "4             NaN         NaN         NaN       2      3  \n",
       "6      163.483765   93.630974  301.022064       0      0  \n",
       "14      27.809269    0.658653   86.899841       0      0  \n",
       "...           ...         ...         ...     ...    ...  \n",
       "47206         NaN         NaN         NaN       2      3  \n",
       "47207   22.588705  177.425583  429.390198       0      0  \n",
       "47209         NaN         NaN         NaN       2      3  \n",
       "47214  -94.663971   33.232391  405.152161       0      0  \n",
       "47215         NaN         NaN         NaN       2      3  \n",
       "\n",
       "[22254 rows x 33 columns]"
      ]
     },
     "execution_count": 12,
     "metadata": {},
     "output_type": "execute_result"
    }
   ],
   "source": [
    "opt_df"
   ]
  },
  {
   "cell_type": "code",
   "execution_count": 13,
   "metadata": {},
   "outputs": [],
   "source": [
    "opt_nc_df = opt_df.merge(evt_nc_df,how=\"inner\")\n",
    "opt_cc_df = opt_df.merge(evt_cc_df,how=\"inner\")"
   ]
  },
  {
   "cell_type": "code",
   "execution_count": 14,
   "metadata": {},
   "outputs": [],
   "source": [
    "sf_cc_df = opt_cc_df.drop_duplicates(subset=[\"run\",\"subrun\",\"event\",\"pfpid\"])\n",
    "sf_nc_df = opt_nc_df.drop_duplicates(subset=[\"run\",\"subrun\",\"event\",\"pfpid\"])"
   ]
  },
  {
   "cell_type": "code",
   "execution_count": 15,
   "metadata": {},
   "outputs": [],
   "source": [
    "opt_cc_fail = opt_cc_df[(opt_cc_df.nu_index>=0)&(opt_cc_df.score==0.1)&((opt_cc_df.signal==0))]\n",
    "opt_nc_fail = opt_nc_df[(opt_nc_df.nu_index>=0)&(opt_nc_df.score==0.1)&(opt_nc_df.signal==0)]\n",
    "\n",
    "match_cc_fail = opt_cc_fail.merge(match_df[(match_df.matchid<0)],on=[\"run\",\"subrun\",\"event\"],how=\"left\")\n",
    "match_nc_fail = opt_nc_fail.merge(match_df[(match_df.matchid<0)],on=[\"run\",\"subrun\",\"event\"],how=\"left\")"
   ]
  },
  {
   "cell_type": "code",
   "execution_count": 16,
   "metadata": {},
   "outputs": [
    {
     "data": {
      "image/png": "[encoded data removed]",
      "text/plain": [
       "<Figure size 432x288 with 1 Axes>"
      ]
     },
     "metadata": {
      "needs_background": "light"
     },
     "output_type": "display_data"
    }
   ],
   "source": [
    "plt.hist(opt_cc_df[opt_cc_df.signal==0].score,histtype=\"step\",bins=np.linspace(0,4e4,20))\n",
    "# plt.hist(opt_cc_fail.truE,                   density=True,histtype=\"step\",bins=np.linspace(0,5,20))\n",
    "plt.show()"
   ]
  },
  {
   "cell_type": "code",
   "execution_count": 14,
   "metadata": {},
   "outputs": [],
   "source": [
    "# the discrepancy of slice counts between opt_nc_df and opt_cc_df and opt_df is from events with more than one neutrino\n",
    "\n",
    "\n",
    "# len(opt_df.index)-len(pd.concat([opt_cc_df,opt_nc_df]).index)\n",
    "\n",
    "# test = pd.concat([opt_nc_df,opt_cc_df])\n",
    "# plt.hist((opt_df.merge(test, how='left', indicator=True)\n",
    "#      .query('_merge == \"left_only\"')\n",
    "#      .drop('_merge', 1)).nnu)"
   ]
  },
  {
   "cell_type": "code",
   "execution_count": 17,
   "metadata": {},
   "outputs": [
    {
     "data": {
      "image/png": "[encoded data removed]",
      "text/plain": [
       "<Figure size 720x288 with 2 Axes>"
      ]
     },
     "metadata": {
      "needs_background": "light"
     },
     "output_type": "display_data"
    }
   ],
   "source": [
    "fig, axs = plt.subplots(1, 2,figsize=(10,4),sharey=True)\n",
    "bins = np.logspace(-1,5,30)\n",
    "\n",
    "for i in range(2):\n",
    "    this_all = opt_cc_df if (i==0) else opt_nc_df \n",
    "    this_cut  = this_all.copy()\n",
    "    color = [[\"mediumpurple\",\"lightsalmon\"],[\"rebeccapurple\",'lightsalmon']]\n",
    "    axs[i].hist([this_cut[this_cut.signal==0].drop_duplicates(subset=[\"run\",\"subrun\",\"event\",\"pfpid\"]).score],bins=bins,histtype=\"step\",lw=2,label=\"nu\")\n",
    "    axs[i].hist([this_cut[this_cut.signal==1].drop_duplicates(subset=[\"run\",\"subrun\",\"event\",\"pfpid\"]).score],bins=bins,histtype=\"step\",lw=2,label=\"dirt\")\n",
    "    axs[i].hist([this_cut[this_cut.signal==2].drop_duplicates(subset=[\"run\",\"subrun\",\"event\",\"pfpid\"]).score],bins=bins,histtype=\"step\",lw=2,label=\"cosmic\")\n",
    "    axs[i].legend()\n",
    "    \n",
    "axs[0].ticklabel_format(axis='y', style='sci', scilimits=(-4,4))\n",
    "axs[1].ticklabel_format(axis='y', style='sci', scilimits=(-4,4))\n",
    "    \n",
    "axs[0].set_title(\"CC\")\n",
    "axs[1].set_title(\"NC\")\n",
    "\n",
    "axs[0].set_xscale('log')\n",
    "axs[1].set_xscale('log')\n",
    "\n",
    "axs[1].set_xlabel(\"OpT0 Score\")\n",
    "axs[0].set_xlabel(\"OpT0 Score\")\n",
    "plt.suptitle(\"OpT0 Flash-Matching Performance [All Matches]\",y=1.01)\n",
    "plt.show()"
   ]
  },
  {
   "cell_type": "code",
   "execution_count": 19,
   "metadata": {},
   "outputs": [],
   "source": [
    "# fig, axs = plt.subplots(1, 2,figsize=(10,4),sharey=True)\n",
    "# bins = np.linspace(-1,40,30)\n",
    "\n",
    "# for i in range(2):\n",
    "#     this_all = sf_cc_df if (i==0) else sf_nc_df \n",
    "#     this_cut  = this_all.copy()\n",
    "#     color = [[\"mediumpurple\",\"lightsalmon\"],[\"rebeccapurple\",'lightsalmon']]\n",
    "#     axs[i].hist([this_cut[this_cut.signal==0].fscore],bins=bins,histtype=\"step\",lw=2,             color=\"navy\", label=\"nu\")\n",
    "#     axs[i].hist([this_cut[this_cut.signal==1].fscore],bins=bins,histtype=\"step\",lw=2, hatch=\"//\", color=\"darkorange\", label=\"dirt\")\n",
    "#     axs[i].hist([this_cut[this_cut.signal==2].fscore],bins=bins,histtype=\"step\",lw=2, hatch=\"//\", color=\"forestgreen\", label=\"cosmic\")\n",
    "#     axs[i].legend()\n",
    "    \n",
    "# axs[0].ticklabel_format(axis='y', style='sci', scilimits=(-4,4))\n",
    "# axs[1].ticklabel_format(axis='y', style='sci', scilimits=(-4,4))\n",
    "    \n",
    "# axs[0].set_title(\"CC\")\n",
    "# axs[1].set_title(\"NC\")\n",
    "\n",
    "# axs[0].set_xlabel(\"SimpleFlash Score\")\n",
    "# axs[1].set_xlabel(\"SimpleFlash Score\")\n",
    "# plt.suptitle(\"SimpleFlash Performance [All Matches]\",y=1.01,fontsize=14)\n",
    "# plt.show()"
   ]
  },
  {
   "cell_type": "code",
   "execution_count": 20,
   "metadata": {},
   "outputs": [],
   "source": [
    "# fig, axs = plt.subplots(1, 2,figsize=(10,4),sharey=True)\n",
    "# bins = np.linspace(-1,40,30)\n",
    "\n",
    "# for i in range(2):\n",
    "#     this_all = sf_old_cc_df if (i==0) else sf_old_nc_df \n",
    "#     this_cut  = this_all.copy()\n",
    "#     color = [[\"mediumpurple\",\"lightsalmon\"],[\"rebeccapurple\",'lightsalmon']]\n",
    "#     axs[i].hist([this_cut[this_cut.signal==0].fscore],bins=bins,histtype=\"step\",lw=2,             color=\"navy\", label=\"nu\")\n",
    "#     axs[i].hist([this_cut[this_cut.signal==1].fscore],bins=bins,histtype=\"step\",lw=2, hatch=\"//\", color=\"darkorange\", label=\"dirt\")\n",
    "#     axs[i].hist([this_cut[this_cut.signal==2].fscore],bins=bins,histtype=\"step\",lw=2, hatch=\"//\", color=\"forestgreen\", label=\"cosmic\")\n",
    "#     axs[i].legend()\n",
    "    \n",
    "# axs[0].ticklabel_format(axis='y', style='sci', scilimits=(-4,4))\n",
    "# axs[1].ticklabel_format(axis='y', style='sci', scilimits=(-4,4))\n",
    "    \n",
    "# axs[0].set_title(\"CC\")\n",
    "# axs[1].set_title(\"NC\")\n",
    "\n",
    "# axs[0].set_xlabel(\"SimpleFlash Score\")\n",
    "# axs[1].set_xlabel(\"SimpleFlash Score\")\n",
    "# plt.suptitle(\"(v09_37_00) SimpleFlash Performance [All Matches]\",y=1.01,fontsize=14)\n",
    "# plt.show()"
   ]
  },
  {
   "cell_type": "code",
   "execution_count": 21,
   "metadata": {},
   "outputs": [
    {
     "data": {
      "image/png": "[encoded data removed]",
      "text/plain": [
       "<Figure size 720x288 with 2 Axes>"
      ]
     },
     "metadata": {
      "needs_background": "light"
     },
     "output_type": "display_data"
    }
   ],
   "source": [
    "fig, axs = plt.subplots(1, 2,figsize=(10,4),sharey=True)\n",
    "bins = np.logspace(-5,1,30)\n",
    "\n",
    "for i in range(2):\n",
    "    this_all = opt_cc_df if (i==0) else opt_nc_df \n",
    "    this_cut  = this_all.copy()\n",
    "    # this_cut[\"score\"] = np.where(this_cut.score < 0, 0.1, this_cut.score)\n",
    "    color = [[\"mediumpurple\",\"lightsalmon\"],[\"rebeccapurple\",'lightsalmon']]\n",
    "    axs[i].hist([1/this_cut[this_cut.signal==0].score],bins=bins,histtype=\"step\",lw=2,           color=\"blue\",label=\"nu\")\n",
    "    axs[i].hist([1/this_cut[this_cut.signal==1].score],bins=bins,histtype=\"step\",lw=2,hatch='//',color=\"orange\",label=\"dirt\")\n",
    "    axs[i].hist([1/this_cut[this_cut.signal==2].score],bins=bins,histtype=\"step\",lw=2,hatch='//',color=\"green\",label=\"cosmic\")\n",
    "    axs[i].legend()\n",
    "    \n",
    "axs[0].ticklabel_format(axis='y', style='sci', scilimits=(-4,4))\n",
    "axs[1].ticklabel_format(axis='y', style='sci', scilimits=(-4,4))\n",
    "    \n",
    "axs[0].set_title(\"CC\")\n",
    "axs[1].set_title(\"NC\")\n",
    "\n",
    "axs[0].set_xscale('log')\n",
    "axs[1].set_xscale('log')\n",
    "\n",
    "axs[0].set_xlabel(\"$\\chi^2$ (1/ OpT0 Score)\")\n",
    "axs[1].set_xlabel(\"$\\chi^2$ (1/ OpT0 Score)\")\n",
    "plt.suptitle(\"OpT0 Flash-Matching Performance [All Matches]\",y=1.01,fontsize=14)\n",
    "plt.show()"
   ]
  },
  {
   "cell_type": "code",
   "execution_count": 22,
   "metadata": {},
   "outputs": [
    {
     "data": {
      "image/png": "[encoded data removed]",
      "text/plain": [
       "<Figure size 1000x400 with 2 Axes>"
      ]
     },
     "metadata": {
      "needs_background": "light"
     },
     "output_type": "display_data"
    }
   ],
   "source": [
    "fig, axs = plt.subplots(1, 2,figsize=(10,4),dpi=100)\n",
    "bins = np.logspace(-5,1,25)\n",
    "\n",
    "this_all = pd.concat([opt_cc_df, opt_nc_df])\n",
    "this_df  = this_all[(this_all.signal==0) & (this_all.flash_pe.isna()==False)]\n",
    "axs[0].hist2d(1/this_df.score,\n",
    "              this_df.flash_pe,\n",
    "              bins=[bins,np.linspace(0,1e5,25)])\n",
    "axs[0].set_xscale('log')\n",
    "axs[0].set_ylabel(\"Measured PE\",fontsize=15)\n",
    "axs[0].ticklabel_format(axis='y', style='sci', scilimits=(-4,4))\n",
    "\n",
    "this_all = pd.concat([opt_cc_df, opt_nc_df])\n",
    "this_df  = this_all[(this_all.signal==0) & (this_all.flash_pe.isna()==False)]\n",
    "axs[1].hist2d(1/this_df.score,\n",
    "              this_df.hypo_pe,\n",
    "              bins=[bins,np.linspace(0,1e5,25)])\n",
    "axs[1].set_ylabel(\"Hypothesized PE\",fontsize=15)\n",
    "axs[1].set_xscale('log')\n",
    "axs[1].ticklabel_format(axis='y', style='sci', scilimits=(-4,4))\n",
    "\n",
    "axs[0].set_xlabel(\"$\\chi^2$ (1/ OpT0 Score)\",fontsize=15)\n",
    "axs[1].set_xlabel(\"$\\chi^2$ (1/ OpT0 Score)\",fontsize=15)\n",
    "plt.suptitle(r\"OpT0 Flash-Matching Performance [$\\nu$ Slices Only]\",y=1.01,fontsize=16)\n",
    "plt.show()"
   ]
  },
  {
   "cell_type": "code",
   "execution_count": 107,
   "metadata": {},
   "outputs": [],
   "source": [
    "this_all = pd.concat([opt_cc_df, opt_nc_df])\n",
    "this_df  = this_all[(this_all.signal==0) & (this_all.flash_pe.isna()==False)] \n",
    "this_df = this_df[this_df.score < 1e3]\n",
    "missing_df = this_df.sort_values(by=[\"run\",\"subrun\"])[:200][[\"subrun\",\"event\",\"pfpid\"]]"
   ]
  },
  {
   "cell_type": "code",
   "execution_count": 68,
   "metadata": {},
   "outputs": [
    {
     "data": {
      "image/png": "[encoded data removed]",
      "text/plain": [
       "<Figure size 1000x400 with 2 Axes>"
      ]
     },
     "metadata": {
      "needs_background": "light"
     },
     "output_type": "display_data"
    }
   ],
   "source": [
    "fig, axs = plt.subplots(1, 2,figsize=(10,4),dpi=100)\n",
    "bins = np.logspace(-5,1,25)\n",
    "\n",
    "this_all = pd.concat([opt_cc_df, opt_nc_df])\n",
    "this_df  = this_all[(this_all.signal==0) & (this_all.flash_pe.isna()==False)]\n",
    "axs[0].hist2d(1/this_df.score,\n",
    "              this_df.vtx_x,\n",
    "              bins=[bins,np.linspace(-200,200,25)])\n",
    "axs[0].set_xscale('log')\n",
    "axs[0].set_ylabel(\"Vtx X [cm]\",fontsize=15)\n",
    "# axs[0].ticklabel_format(axis='y', style='sci', scilimits=(-4,4))\n",
    "\n",
    "this_all = pd.concat([opt_cc_df, opt_nc_df])\n",
    "this_df  = this_all[(this_all.signal==0) & (this_all.flash_pe.isna()==False)]\n",
    "axs[1].hist2d(1/this_df.score,\n",
    "              this_df.vtx_y,\n",
    "              bins=[bins,np.linspace(-200,200,25)])\n",
    "axs[1].set_ylabel(\"Hypothesized PE\",fontsize=15)\n",
    "axs[1].set_xscale('log')\n",
    "# axs[1].ticklabel_format(axis='y', style='sci', scilimits=(-4,4))\n",
    "\n",
    "axs[0].set_xlabel(\"$\\chi^2$ (1/ OpT0 Score)\",fontsize=15)\n",
    "axs[1].set_xlabel(\"$\\chi^2$ (1/ OpT0 Score)\",fontsize=15)\n",
    "plt.suptitle(r\"OpT0 Flash-Matching Performance [$\\nu$ Slices Only]\",y=1.01,fontsize=16)\n",
    "plt.show()"
   ]
  },
  {
   "cell_type": "code",
   "execution_count": 19,
   "metadata": {},
   "outputs": [
    {
     "name": "stdout",
     "output_type": "stream",
     "text": [
      "number of slices attributed to cc events: 8410\n",
      "number of slices attributed to nc events: 1822\n",
      "number of cosmic slices:  12022\n",
      "number of cc events: 8149\n",
      "number of nc events: 1722\n"
     ]
    }
   ],
   "source": [
    "print(\"number of slices attributed to cc events:\", len(opt_df[(opt_df.signal<2) & (opt_df.iscc==1)].drop_duplicates(subset=[\"run\",\"subrun\",\"event\",\"pfpid\"]).index))\n",
    "print(\"number of slices attributed to nc events:\", len(opt_df[(opt_df.signal<2) & (opt_df.isnc==1)].drop_duplicates(subset=[\"run\",\"subrun\",\"event\",\"pfpid\"]).index))\n",
    "print(\"number of cosmic slices: \", len(opt_df[opt_df.signal==2].index))\n",
    "\n",
    "print(\"number of cc events:\", len(opt_df[(opt_df.signal<2) & (opt_df.iscc==1)].drop_duplicates(subset=[\"run\",\"subrun\",\"event\",\"nu_index\"]).index))\n",
    "print(\"number of nc events:\", len(opt_df[(opt_df.signal<2) & (opt_df.isnc==1)].drop_duplicates(subset=[\"run\",\"subrun\",\"event\",\"nu_index\"]).index))"
   ]
  },
  {
   "cell_type": "code",
   "execution_count": 20,
   "metadata": {},
   "outputs": [
    {
     "name": "stdout",
     "output_type": "stream",
     "text": [
      "cc (event) eff:  0.8320707070707071\n",
      "nc (event) eff:  0.7630937880633374\n",
      "% of cosmics remaining:  0.045167193478622525\n"
     ]
    }
   ],
   "source": [
    "cut_df = opt_df[(opt_df.score > 250)]\n",
    "print (\"cc (event) eff: \",   len(cut_df[(cut_df.match<2) & (cut_df.iscc==1)].drop_duplicates(subset=[\"run\",\"subrun\",\"event\",\"nu_index\"]).index)/len(opt_df[(opt_df.signal==0) & (opt_df.iscc==1)].drop_duplicates(subset=[\"run\",\"subrun\",\"event\",\"nu_index\"]).index))\n",
    "print (\"nc (event) eff: \",   len(cut_df[(cut_df.match<2) & (cut_df.isnc==1)].drop_duplicates(subset=[\"run\",\"subrun\",\"event\",\"nu_index\"]).index)/len(opt_df[(opt_df.signal==0) & (opt_df.isnc==1)].drop_duplicates(subset=[\"run\",\"subrun\",\"event\",\"nu_index\"]).index))\n",
    "print (\"% of cosmics remaining: \", len(cut_df[cut_df.signal==2].index)/len(opt_df[opt_df.signal==2].index))"
   ]
  },
  {
   "cell_type": "code",
   "execution_count": 27,
   "metadata": {},
   "outputs": [],
   "source": [
    "Npts = 20\n",
    "score_cut = np.logspace(1,4,Npts)\n",
    "eff_cc = np.zeros(Npts); eff_nc = np.zeros(Npts); eff_mu = np.zeros(Npts)\n",
    "pur_cc = np.zeros(Npts); pur_nc = np.zeros(Npts)\n",
    "for i, cut in enumerate(score_cut):\n",
    "    all_df = opt_df.copy()\n",
    "    cut_df = all_df[all_df.score>cut]\n",
    "    nall_cc = len(all_df[(all_df.match<2) & (all_df.iscc==1)].index)\n",
    "    nall_nc = len(all_df[(all_df.match<2) & (all_df.isnc==1)].index)\n",
    "    ncut_cc = len(cut_df[(cut_df.match<2) & (cut_df.iscc==1)].index)\n",
    "    ncut_nc = len(cut_df[(cut_df.match<2) & (cut_df.isnc==1)].index)\n",
    "    eff_cc[i] = ncut_cc/nall_cc\n",
    "    eff_nc[i] = ncut_nc/nall_nc\n",
    "    \n",
    "    pur_cc[i] = len(opt_cc_df[(opt_cc_df.signal==0) & (opt_cc_df.score > cut)].drop_duplicates(subset=[\"run\",\"subrun\",\"event\",\"pfpid\"]).index)/len(opt_cc_df[(opt_cc_df.score > cut)].drop_duplicates(subset=[\"run\",\"subrun\",\"event\",\"pfpid\"]).index)\n",
    "    pur_nc[i] = len(opt_nc_df[(opt_nc_df.signal==0) & (opt_nc_df.score > cut)].drop_duplicates(subset=[\"run\",\"subrun\",\"event\",\"pfpid\"]).index)/len(opt_nc_df[(opt_nc_df.score > cut)].drop_duplicates(subset=[\"run\",\"subrun\",\"event\",\"pfpid\"]).index)\n",
    "    \n",
    "    \n",
    "sf_eff_cc = np.zeros(Npts); sf_eff_nc = np.zeros(Npts);\n",
    "sf_pur_cc = np.zeros(Npts); sf_pur_nc = np.zeros(Npts)\n",
    "\n",
    "sf_cut = np.linspace(5,20,Npts)\n",
    "for i, cut in enumerate(sf_cut):\n",
    "    all_df = pd.concat([sf_cc_df,sf_nc_df]).copy()\n",
    "    cut_df = all_df[(all_df.fscore<cut) & (all_df.fscore>0)]\n",
    "    nall_cc = len(all_df[(all_df.signal==0) & (all_df.iscc==1)].index)\n",
    "    nall_nc = len(all_df[(all_df.signal==0) & (all_df.isnc==1)].index)\n",
    "    nall_mu = len(all_df[all_df.signal==2].index)\n",
    "    \n",
    "    ncut_cc = len(cut_df[(cut_df.signal==0) & (cut_df.iscc==1)].index)\n",
    "    ncut_nc = len(cut_df[(cut_df.signal==0) & (cut_df.isnc==1)].index)\n",
    "    ncut_mu = len(cut_df[cut_df.signal==2].index)\n",
    "    sf_eff_cc[i] = ncut_cc/nall_cc\n",
    "    sf_eff_nc[i] = ncut_nc/nall_nc\n",
    "    \n",
    "    sf_pur_cc[i] = len(sf_cc_df[(sf_cc_df.signal==0) & (sf_cc_df.fscore < cut) & (sf_cc_df.fscore > 0)].drop_duplicates(subset=[\"run\",\"subrun\",\"event\",\"pfpid\"]).index)/len(sf_cc_df[(sf_cc_df.fscore < cut) & (sf_cc_df.fscore > 0)].drop_duplicates(subset=[\"run\",\"subrun\",\"event\",\"pfpid\"]).index)\n",
    "    sf_pur_nc[i] = len(sf_nc_df[(sf_nc_df.signal==0) & (sf_nc_df.fscore < cut) & (sf_nc_df.fscore > 0)].drop_duplicates(subset=[\"run\",\"subrun\",\"event\",\"pfpid\"]).index)/len(sf_nc_df[(sf_nc_df.fscore < cut) & (sf_nc_df.fscore > 0)].drop_duplicates(subset=[\"run\",\"subrun\",\"event\",\"pfpid\"]).index)"
   ]
  },
  {
   "cell_type": "code",
   "execution_count": 28,
   "metadata": {},
   "outputs": [
    {
     "data": {
      "image/png": "[encoded data removed]",
      "text/plain": [
       "<Figure size 432x288 with 1 Axes>"
      ]
     },
     "metadata": {
      "needs_background": "light"
     },
     "output_type": "display_data"
    }
   ],
   "source": [
    "plt.plot(score_cut,eff_cc,\".-\",label=\"CC Eff\")\n",
    "plt.plot(score_cut,eff_nc,\".-\",label=\"NC Eff\")\n",
    "plt.plot(score_cut,pur_cc,'v-',label=\"CC Pur\")\n",
    "plt.plot(score_cut,pur_nc,'v-',label=\"NC Pur\")\n",
    "plt.xscale(\"log\")\n",
    "plt.legend()\n",
    "plt.grid()\n",
    "plt.ylim(0.5,1.02)\n",
    "plt.show()"
   ]
  },
  {
   "cell_type": "code",
   "execution_count": 29,
   "metadata": {},
   "outputs": [
    {
     "data": {
      "image/png": "[encoded data removed]",
      "text/plain": [
       "<Figure size 432x288 with 1 Axes>"
      ]
     },
     "metadata": {
      "needs_background": "light"
     },
     "output_type": "display_data"
    }
   ],
   "source": [
    "plt.plot(sf_cut,sf_eff_cc,\".-\",label=\"CC Eff\")\n",
    "plt.plot(sf_cut,sf_eff_nc,\".-\",label=\"NC Eff\")\n",
    "plt.plot(sf_cut,sf_pur_cc,'v-',label=\"CC Pur\")\n",
    "plt.plot(sf_cut,sf_pur_nc,'v-',label=\"NC Pur\")\n",
    "plt.grid()\n",
    "plt.ylim(0.5,1.02)\n",
    "left, right = plt.xlim()\n",
    "plt.xlim(right,left)\n",
    "plt.legend()\n",
    "plt.show()"
   ]
  },
  {
   "cell_type": "code",
   "execution_count": 30,
   "metadata": {},
   "outputs": [
    {
     "data": {
      "image/png": "[encoded data removed]",
      "text/plain": [
       "<Figure size 720x288 with 2 Axes>"
      ]
     },
     "metadata": {
      "needs_background": "light"
     },
     "output_type": "display_data"
    }
   ],
   "source": [
    "fig, axes = plt.subplots(1,2,figsize=(10,4),sharey=True,sharex=True)\n",
    "axes[0].plot(pur_cc,eff_cc,\".-\",label=\"OpT0\")\n",
    "axes[0].plot(sf_pur_cc,sf_eff_cc,\".-\",label=\"SF\")\n",
    "\n",
    "axes[1].plot(pur_nc,eff_nc,\".-\",label=\"OpT0\")\n",
    "axes[1].plot(sf_pur_nc,sf_eff_nc,\".-\",label=\"SF\")\n",
    "\n",
    "axes[0].set_ylim(0.5,1.01)\n",
    "axes[0].set_xlim(0.5,1.01)\n",
    "axes[0].legend()\n",
    "axes[1].legend()\n",
    "\n",
    "axes[0].set_title(\"CC\")\n",
    "axes[1].set_title(\"NC\")\n",
    "plt.show()"
   ]
  },
  {
   "attachments": {},
   "cell_type": "markdown",
   "metadata": {},
   "source": [
    "# timing resolution"
   ]
  },
  {
   "cell_type": "code",
   "execution_count": 25,
   "metadata": {},
   "outputs": [
    {
     "data": {
      "image/png": "[encoded data removed]",
      "text/plain": [
       "<Figure size 432x288 with 1 Axes>"
      ]
     },
     "metadata": {
      "needs_background": "light"
     },
     "output_type": "display_data"
    }
   ],
   "source": [
    "this_df = opt_df[opt_df.match < 2]\n",
    "\n",
    "plt.hist(this_df.time-this_df.t0,bins=np.linspace(-1,1,50))\n",
    "plt.ticklabel_format(axis='x', style='sci', scilimits=(-2,4))\n",
    "plt.yscale('log')\n",
    "plt.show()"
   ]
  },
  {
   "cell_type": "code",
   "execution_count": null,
   "metadata": {},
   "outputs": [],
   "source": []
  }
 ],
 "metadata": {
  "kernelspec": {
   "display_name": ".venv",
   "language": "python",
   "name": "python3"
  },
  "language_info": {
   "codemirror_mode": {
    "name": "ipython",
    "version": 3
   },
   "file_extension": ".py",
   "mimetype": "text/x-python",
   "name": "python",
   "nbconvert_exporter": "python",
   "pygments_lexer": "ipython3",
   "version": "3.6.8"
  },
  "orig_nbformat": 4
 },
 "nbformat": 4,
 "nbformat_minor": 2
}
